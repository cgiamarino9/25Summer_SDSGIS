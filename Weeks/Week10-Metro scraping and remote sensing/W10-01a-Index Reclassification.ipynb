{
 "cells": [
  {
   "cell_type": "markdown",
   "metadata": {},
   "source": [
    "# Data reclassification\n",
    "\n",
    "Reclassifying data based on specific criteria is a common task when doing GIS analysis. The purpose of this lesson is to see how we can reclassify values based on some criteria which can be whatever, such as:\n",
    "\n",
    "```\n",
    "1. if rent burden is > 50 %\n",
    "\n",
    "    AND\n",
    "\n",
    "    2. % poverty is greater than 50 %\n",
    "\n",
    "    ------------------------------------------------------\n",
    "\n",
    "    IF TRUE: ==> Household receives Housing Choice Vouchers\n",
    "    IF NOT TRUE: ==> Household can rent market-rate housing\n",
    "```\n",
    "\n",
    "In this tutorial, we will:\n",
    "\n",
    "1. Use classification schemes from the PySAL [mapclassify library](https://pysal.org/mapclassify/) to classify travel times into multiple classes.\n",
    "\n",
    "2. Create a custom classifier to classify demographic and socioeconomic variables in order to find out priority locations for housing and transit policy interventions:\n",
    "   - Majority non-White residents\n",
    "   - High public transit reliance\n",
    "   - High rent burden\n",
    "   - High poverty rates\n",
    "\n",
    "## Input data\n",
    "\n",
    "We will use [four tables from the US Census](https://data.census.gov/) that contains race/ethnicity, rent burden, percent transit users, and poverty rates.\n",
    "\n",
    "These tables are:\n",
    "1. [S0601: Selected Characteristics of the Total and Native Populations in the United States](https://data.census.gov/table?q=s0601)\n",
    "2. [S0701: Poverty Status in the Past 12 Months](https://data.census.gov/table?q=poverty&g=050XX00US06037$1400000&y=2023) \n",
    "3. [S0802: Means of Transportation to Work by Selected Characteristics](https://data.census.gov/table?q=s0802)\n",
    "4. [B25070: Gross Rent as a Percentage of Household Icome in the Past 12 Month](https://data.census.gov/table?q=b25070&g=050XX00US06037$1400000&y=2023)\n",
    "\n",
    "In this tutorial, we will use a census tract shapefile from [Tiger/Line](https://www.census.gov/cgi-bin/geo/shapefiles/index.php?year=2023&layergroup=Census+Tracts) to merge the data table that has been cleaned up in Excel:\n",
    "`\"data/tl_2023_06_tract.zip\"`\n",
    "\n",
    "\n",
    "\n",
    "\n",
    "\n",
    "\n",
    "## Common classifiers\n",
    "\n",
    "### Classification schemes for thematic maps\n",
    "\n",
    "\n",
    "[PySAL](http://pysal.readthedocs.io/en/latest) -module is an extensive Python library for spatial analysis. It also includes all of the most common data classifiers that are used commonly e.g. when visualizing data. Available map classifiers in [pysal's mapclassify -module](https://pysal.readthedocs.io/en/v1.11.0/library/esda/mapclassify.html):\n",
    "\n",
    " - Box_Plot\n",
    " - Equal_Interval\n",
    " - Fisher_Jenks\n",
    " - Fisher_Jenks_Sampled\n",
    " - HeadTail_Breaks\n",
    " - Jenks_Caspall\n",
    " - Jenks_Caspall_Forced\n",
    " - Jenks_Caspall_Sampled\n",
    " - Max_P_Classifier\n",
    " - Maximum_Breaks\n",
    " - Natural_Breaks\n",
    " - Quantiles\n",
    " - Percentiles\n",
    " - Std_Mean\n",
    " - User_Defined\n",
    "\n",
    "- First, we need to read our zipped shapefiles for California Tracts and LA County:"
   ]
  },
  {
   "cell_type": "code",
   "execution_count": null,
   "metadata": {
    "slideshow": {
     "slide_type": "slide"
    }
   },
   "outputs": [],
   "source": [
    "import geopandas as gpd\n",
    "\n",
    "caTracts = \"data/tl_2023_06_tract.zip\"\n",
    "\n",
    "# Read the GeoJSON file similarly as Shapefile\n",
    "tracts = gpd.read_file(caTracts)\n",
    "\n",
    "# Let's see what we have\n",
    "tracts.head()"
   ]
  },
  {
   "cell_type": "code",
   "execution_count": null,
   "metadata": {
    "slideshow": {
     "slide_type": "slide"
    }
   },
   "outputs": [],
   "source": [
    "# import county boundary to clip tracts from state to LA County boundary\n",
    "county = \"data/County_Boundary.zip\"\n",
    "\n",
    "clip = gpd.read_file(county)\n",
    "\n",
    "# project tracts and clip to same coordinate system\n",
    "tracts = tracts.to_crs(epsg=3857)\n",
    "clip = clip.to_crs(epsg=3857)\n"
   ]
  },
  {
   "cell_type": "markdown",
   "metadata": {},
   "source": [
    "# Clipping with geopandas 'clip' function\n",
    "## Clipping is commonly referred to as the 'cookie cutter' geospatial tool\n",
    "With geopandas.clip, we can cut (or select) census tracts for the whole state of California to the LA County boundary. \n",
    "\n",
    "![An example of the clip tool](images/clip.png) from {GIS Geography](https://gisgeography.com/clip-tool-gis/)"
   ]
  },
  {
   "cell_type": "code",
   "execution_count": null,
   "metadata": {
    "slideshow": {
     "slide_type": "slide"
    },
    "vscode": {
     "languageId": "markdown"
    }
   },
   "outputs": [],
   "source": [
    "# Clip the tracts to the county boundary\n",
    "la_tracts = gpd.clip(tracts, clip)\n",
    "\n",
    "# Let's see what we have\n",
    "la_tracts.head()"
   ]
  },
  {
   "cell_type": "code",
   "execution_count": null,
   "metadata": {
    "slideshow": {
     "slide_type": "slide"
    },
    "vscode": {
     "languageId": "r"
    }
   },
   "outputs": [],
   "source": [
    "%matplotlib inline\n",
    "import matplotlib.pyplot as plt \n",
    "\n",
    "# Plot la_tracts and clip\n",
    "fig, ax = plt.subplots(figsize=(10, 10))\n",
    "\n",
    "# Plot LA tracts with opaque grey fill and dark grey skinny edge color\n",
    "la_tracts.plot(ax=ax, color='grey', edgecolor='darkgrey', alpha=0.5, linewidth=0.75)\n",
    "\n",
    "# Plot the clip boundary with black color\n",
    "clip.boundary.plot(ax=ax, color='black', linewidth=1)\n",
    "\n",
    "plt.title('LA Tracts and County Boundary')\n",
    "plt.show()"
   ]
  },
  {
   "cell_type": "markdown",
   "metadata": {
    "slideshow": {
     "slide_type": "slide"
    }
   },
   "source": [
    "- Second, we need to import our CSV and format the FIPS code to contain the leading zero."
   ]
  },
  {
   "cell_type": "code",
   "execution_count": null,
   "metadata": {
    "slideshow": {
     "slide_type": "fragment"
    }
   },
   "outputs": [],
   "source": [
    "import pandas as pd\n",
    "\n",
    "census = \"data/acs2023_LA.csv\"\n",
    "\n",
    "# Read the CSV file into a DataFrame\n",
    "df = pd.read_csv(census, dtype={'GEOID': str})\n",
    "\n",
    "# Print the header of the CSV\n",
    "df.head()"
   ]
  },
  {
   "cell_type": "code",
   "execution_count": null,
   "metadata": {},
   "outputs": [],
   "source": [
    "# Add leading zeros to GEOID column\n",
    "df['GEOID'] = df['GEOID'].str.zfill(11)\n",
    "\n",
    "# Print the head of the dataframe to verify the changes\n",
    "df.head()"
   ]
  },
  {
   "cell_type": "markdown",
   "metadata": {
    "slideshow": {
     "slide_type": "slide"
    }
   },
   "source": [
    "As we can see, there are 4 different variables that we are interested in are columns called `Pct_NonWhite`, `Pct_PublicTrans`, `Pct_RentBurden`, `Pct_BelowPov ` which will determine our Housing and Transit Vulnerability Index.\n",
    "\n",
    "**The NoData values are presented with value -1**. \n",
    "\n",
    "- Thus we need to remove the No Data values first.\n"
   ]
  },
  {
   "cell_type": "code",
   "execution_count": null,
   "metadata": {
    "slideshow": {
     "slide_type": "fragment"
    }
   },
   "outputs": [],
   "source": [
    "# Include only data that is above or equal to 0\n",
    "df = df.loc[df['Pct_NonWhite'] >=0]\n",
    "df = df.loc[df['Pct_PublicTrans'] >=0]\n",
    "df = df.loc[df['Pct_RentBurden'] >=0]\n",
    "df = df.loc[df['Pct_BelowPov'] >=0]"
   ]
  },
  {
   "cell_type": "markdown",
   "metadata": {},
   "source": [
    "# Merging the data"
   ]
  },
  {
   "cell_type": "markdown",
   "metadata": {
    "slideshow": {
     "slide_type": "slide"
    }
   },
   "source": [
    "- Let's merge the data on FIPS \n",
    "- Let's plot the data and see how it looks like\n",
    "- `cmap` parameter defines the color map. Read more about [choosing colormaps in matplotlib](https://matplotlib.org/3.1.0/tutorials/colors/colormaps.html)\n",
    "- `scheme` option scales the colors according to a classification scheme (requires `mapclassify` module to be installed):"
   ]
  },
  {
   "cell_type": "code",
   "execution_count": null,
   "metadata": {
    "slideshow": {
     "slide_type": "slide"
    }
   },
   "outputs": [],
   "source": [
    "# Merge the dataframes on GEOID\n",
    "merged_tracts = la_tracts.merge(df, left_on='GEOID', right_on='GEOID')\n",
    "\n",
    "# Print the head of the merged dataframe\n",
    "print(merged_tracts.head())"
   ]
  },
  {
   "cell_type": "code",
   "execution_count": null,
   "metadata": {
    "slideshow": {
     "slide_type": "slide"
    }
   },
   "outputs": [],
   "source": [
    "%matplotlib inline\n",
    "import matplotlib.pyplot as plt\n",
    "\n",
    "# Set fig, ax and plot with legend outside of plot\n",
    "fig, ax = plt.subplots(figsize=(10, 10))\n",
    "merged_tracts.plot(column=\"Pct_NonWhite\", scheme=\"Natural_Breaks\", k=5, cmap=\"YlGn\", linewidth=0, legend=True, ax=ax)\n",
    "\n",
    "# Use tight layout\n",
    "plt.tight_layout()\n",
    "plt.title('Percentage of Non-White Residents in LA County')\n",
    "\n",
    "ax.axis('off')\n",
    "\n",
    "# Place legend outside of plot\n",
    "ax.get_legend().set_bbox_to_anchor((1.5, 1))\n"
   ]
  },
  {
   "cell_type": "markdown",
   "metadata": {
    "slideshow": {
     "slide_type": "slide"
    }
   },
   "source": [
    "As we can see from this map, there are particular locations in LA County where there are higher rates of non-White residents.\n",
    "\n",
    "- Let's also make a plot about Public Transit use, Rent Burden and Percent Below Poverty:"
   ]
  },
  {
   "cell_type": "code",
   "execution_count": null,
   "metadata": {
    "slideshow": {
     "slide_type": "slide"
    }
   },
   "outputs": [],
   "source": [
    "# Plot using 5 classes and classify the values using \"Natural Breaks\" classification\n",
    "fig, ax = plt.subplots(figsize=(10, 10))\n",
    "merged_tracts.plot(column=\"Pct_PublicTrans\", scheme=\"Natural_Breaks\", k=5, cmap=\"YlGn\", linewidth=0, legend=True, ax=ax)\n",
    "\n",
    "# Use tight layout\n",
    "plt.tight_layout()\n",
    "plt.title('Percentage of Residents taking Public Transit in LA County')\n",
    "\n",
    "ax.axis('off')\n",
    "\n",
    "# Place legend outside of plot\n",
    "ax.get_legend().set_bbox_to_anchor((1.5, 1))"
   ]
  },
  {
   "cell_type": "code",
   "execution_count": null,
   "metadata": {
    "slideshow": {
     "slide_type": "slide"
    }
   },
   "outputs": [],
   "source": [
    "# Plot using 5 classes and classify the values using \"Natural Breaks\" classification\n",
    "fig, ax = plt.subplots(figsize=(10, 10))\n",
    "merged_tracts.plot(column=\"Pct_RentBurden\", scheme=\"Natural_Breaks\", k=5, cmap=\"YlGn\", linewidth=0, legend=True, ax = ax)\n",
    "\n",
    "# Use tight layout\n",
    "plt.tight_layout()\n",
    "plt.title('Percentage of Rent Burdened Residents  in LA County')\n",
    "\n",
    "ax.axis('off')\n",
    "\n",
    "# Place legend outside of plot\n",
    "ax.get_legend().set_bbox_to_anchor((1.5, 1))"
   ]
  },
  {
   "cell_type": "code",
   "execution_count": null,
   "metadata": {
    "slideshow": {
     "slide_type": "slide"
    }
   },
   "outputs": [],
   "source": [
    "# Plot using 5 classes and classify the values using \"Natural Breaks\" classification\n",
    "fig, ax = plt.subplots(figsize=(10, 10))\n",
    "merged_tracts.plot(column=\"Pct_BelowPov\", scheme=\"Natural_Breaks\", k=5, cmap=\"YlGn\", linewidth=0, legend=True, ax = ax)\n",
    "\n",
    "# Use tight layout\n",
    "plt.tight_layout()\n",
    "plt.title('Percentage of  Residents living in Poverty in LA County')\n",
    "\n",
    "ax.axis('off')\n",
    "\n",
    "# Place legend outside of plot\n",
    "ax.get_legend().set_bbox_to_anchor((1.5, 1))"
   ]
  },
  {
   "cell_type": "markdown",
   "metadata": {
    "slideshow": {
     "slide_type": "slide"
    }
   },
   "source": [
    "# Merging the data through reclassification\n",
    "Okay, from here we can see where our demographic and socioeconomic variables are concentrating, but we want to make a vulnerability index by combining them together. \n",
    "\n",
    "### Applying classifiers to data\n",
    "\n",
    "As mentioned, the `scheme` option defines the classification scheme using `pysal/mapclassify`. Let's have a closer look at how these classifiers work."
   ]
  },
  {
   "cell_type": "code",
   "execution_count": null,
   "metadata": {
    "slideshow": {
     "slide_type": "fragment"
    }
   },
   "outputs": [],
   "source": [
    "import mapclassify"
   ]
  },
  {
   "cell_type": "markdown",
   "metadata": {
    "slideshow": {
     "slide_type": "slide"
    }
   },
   "source": [
    "- Natural Breaks"
   ]
  },
  {
   "cell_type": "code",
   "execution_count": null,
   "metadata": {
    "slideshow": {
     "slide_type": "fragment"
    }
   },
   "outputs": [],
   "source": [
    "mapclassify.NaturalBreaks(y=merged_tracts['Pct_NonWhite'], k=5)"
   ]
  },
  {
   "cell_type": "markdown",
   "metadata": {
    "slideshow": {
     "slide_type": "slide"
    }
   },
   "source": [
    "- Quantiles (default is 5 classes):"
   ]
  },
  {
   "cell_type": "code",
   "execution_count": null,
   "metadata": {
    "slideshow": {
     "slide_type": "fragment"
    }
   },
   "outputs": [],
   "source": [
    "mapclassify.Quantiles(y=merged_tracts['Pct_NonWhite'])"
   ]
  },
  {
   "cell_type": "markdown",
   "metadata": {
    "slideshow": {
     "slide_type": "slide"
    }
   },
   "source": [
    "- It's possible to extract the threshold values into an array:"
   ]
  },
  {
   "cell_type": "code",
   "execution_count": null,
   "metadata": {
    "slideshow": {
     "slide_type": "fragment"
    }
   },
   "outputs": [],
   "source": [
    "classifier = mapclassify.NaturalBreaks(y=merged_tracts['Pct_NonWhite'], k=5)\n",
    "classifier.bins"
   ]
  },
  {
   "cell_type": "markdown",
   "metadata": {
    "slideshow": {
     "slide_type": "slide"
    }
   },
   "source": [
    "- Let's apply one of the `Pysal` classifiers into our data and classify the travel times by non-White residents into 5 classes\n",
    "- The classifier needs to be initialized first with `make()` function that takes the number of desired classes as input parameter"
   ]
  },
  {
   "cell_type": "code",
   "execution_count": null,
   "metadata": {
    "slideshow": {
     "slide_type": "fragment"
    }
   },
   "outputs": [],
   "source": [
    "# Create a Natural Breaks classifier\n",
    "classifier = mapclassify.NaturalBreaks.make(k=5)"
   ]
  },
  {
   "cell_type": "markdown",
   "metadata": {
    "slideshow": {
     "slide_type": "slide"
    }
   },
   "source": [
    "- Now we can apply that classifier into our data by using `apply` -function"
   ]
  },
  {
   "cell_type": "code",
   "execution_count": null,
   "metadata": {
    "slideshow": {
     "slide_type": "fragment"
    }
   },
   "outputs": [],
   "source": [
    "# Classify the data\n",
    "classifications = merged_tracts[['Pct_NonWhite']].apply(classifier)\n",
    "\n",
    "# Let's see what we have\n",
    "classifications.head()"
   ]
  },
  {
   "cell_type": "code",
   "execution_count": null,
   "metadata": {
    "slideshow": {
     "slide_type": "fragment"
    }
   },
   "outputs": [],
   "source": [
    "type(classifications)"
   ]
  },
  {
   "cell_type": "markdown",
   "metadata": {
    "slideshow": {
     "slide_type": "slide"
    }
   },
   "source": [
    "Okay, so now we have a DataFrame where our input column was classified into 5 different classes (numbers 1-5) based on [Natural Breaks classification](http://wiki-1-1930356585.us-east-1.elb.amazonaws.com/wiki/index.php/Jenks_Natural_Breaks_Classification).\n",
    "\n",
    "- We can also add the classification values directly into a new column in our dataframe:"
   ]
  },
  {
   "cell_type": "code",
   "execution_count": null,
   "metadata": {
    "slideshow": {
     "slide_type": "fragment"
    }
   },
   "outputs": [],
   "source": [
    "# Rename the column so that we know that it was classified with natural breaks\n",
    "merged_tracts['nonWhite_class'] = merged_tracts[['Pct_NonWhite']].apply(classifier)\n",
    "\n",
    "# Check the original values and classification\n",
    "merged_tracts[['nonWhite_class', 'Pct_NonWhite']].head()"
   ]
  },
  {
   "cell_type": "markdown",
   "metadata": {
    "slideshow": {
     "slide_type": "fragment"
    }
   },
   "source": [
    "Great, now we have those values in our accessibility GeoDataFrame. Let's visualize the results and see how they look."
   ]
  },
  {
   "cell_type": "code",
   "execution_count": null,
   "metadata": {
    "slideshow": {
     "slide_type": "fragment"
    }
   },
   "outputs": [],
   "source": [
    "# Plot\n",
    "merged_tracts.plot(column=\"nonWhite_class\", linewidth=0, legend=True)\n",
    "\n",
    "# Use tight layout\n",
    "plt.tight_layout()\n",
    "plt.title('Classified Non-White Residents in LA County')\n",
    "plt.set_cmap('YlGn')"
   ]
  },
  {
   "cell_type": "markdown",
   "metadata": {
    "slideshow": {
     "slide_type": "fragment"
    }
   },
   "source": [
    "And here we go, now we have a map where we have used one of the common classifiers to classify our data into 5 classes."
   ]
  },
  {
   "cell_type": "markdown",
   "metadata": {
    "slideshow": {
     "slide_type": "slide"
    }
   },
   "source": [
    "## Plotting a histogram\n",
    "\n",
    "A histogram is a graphic representation of the distribution of the data. When classifying the data, it's always good to consider how the data is distributed, and how the classification shceme divides values into different ranges. \n",
    "\n",
    "- plot the histogram using [pandas.DataFrame.plot.hist](https://pandas.pydata.org/pandas-docs/stable/reference/api/pandas.DataFrame.plot.hist.html)\n",
    "- Number of histogram bins (groups of data) can be controlled using the parameter `bins`:"
   ]
  },
  {
   "cell_type": "code",
   "execution_count": null,
   "metadata": {
    "slideshow": {
     "slide_type": "slide"
    }
   },
   "outputs": [],
   "source": [
    "# Histogram for non-white residents\n",
    "merged_tracts['Pct_NonWhite'].plot.hist(bins=50)"
   ]
  },
  {
   "cell_type": "markdown",
   "metadata": {
    "slideshow": {
     "slide_type": "slide"
    }
   },
   "source": [
    "Let's also add threshold values on thop of the histogram as vertical lines.\n",
    "\n",
    "- Natural Breaks:"
   ]
  },
  {
   "cell_type": "code",
   "execution_count": null,
   "metadata": {
    "slideshow": {
     "slide_type": "fragment"
    }
   },
   "outputs": [],
   "source": [
    "# Define classifier\n",
    "classifier = mapclassify.NaturalBreaks(y=merged_tracts['Pct_NonWhite'], k=5)\n",
    "\n",
    "# Plot histogram for public transport rush hour travel time\n",
    "merged_tracts['Pct_NonWhite'].plot.hist(bins=50)\n",
    "\n",
    "# Add vertical lines for class breaks\n",
    "for value in classifier.bins:\n",
    "    plt.axvline(value, color='k', linestyle='dashed', linewidth=1)"
   ]
  },
  {
   "cell_type": "markdown",
   "metadata": {
    "slideshow": {
     "slide_type": "slide"
    }
   },
   "source": [
    "- Quantiles:"
   ]
  },
  {
   "cell_type": "code",
   "execution_count": null,
   "metadata": {
    "slideshow": {
     "slide_type": "fragment"
    }
   },
   "outputs": [],
   "source": [
    "# Define classifier\n",
    "classifier = mapclassify.Quantiles(y=merged_tracts['Pct_NonWhite'])\n",
    "\n",
    "# Plot histogram for public transport rush hour travel time\n",
    "merged_tracts['Pct_NonWhite'].plot.hist(bins=50)\n",
    "\n",
    "for value in classifier.bins:\n",
    "    plt.axvline(value, color='k', linestyle='dashed', linewidth=1)"
   ]
  },
  {
   "cell_type": "markdown",
   "metadata": {
    "slideshow": {
     "slide_type": "fragment"
    }
   },
   "source": [
    "\n",
    "<div class=\"alert alert-info\">\n",
    "\n",
    "**Task**\n",
    "\n",
    "Select another column from the data (for example, poverty: `Pct_BelowPov`). Do the following visualizations using one of the classification schemes available from [pysal/mapclassify](https://github.com/pysal/mapclassify):\n",
    "    \n",
    "- histogram with vertical lines showing the classification bins\n",
    "- thematic map using the classification scheme\n",
    "\n",
    "\n",
    "</div>"
   ]
  },
  {
   "cell_type": "code",
   "execution_count": null,
   "metadata": {
    "slideshow": {
     "slide_type": "fragment"
    }
   },
   "outputs": [],
   "source": [
    "# Export merged_tracts to a CSV file\n",
    "merged_tracts.to_csv('merged_tracts.csv', index=False)"
   ]
  },
  {
   "cell_type": "markdown",
   "metadata": {
    "slideshow": {
     "slide_type": "slide"
    }
   },
   "source": [
    "## Creating a vulnerability index\n",
    "\n",
    "**Adding the columns together to get a priority score**\n",
    "\n",
    "Let's create three new columns, add them together, and create our Housing and Transit Vulnerability Index. We can then plot this with matplotlib and folium.\n"
   ]
  },
  {
   "cell_type": "code",
   "execution_count": null,
   "metadata": {
    "slideshow": {
     "slide_type": "slide"
    }
   },
   "outputs": [],
   "source": [
    "# Define classifiers for each column\n",
    "classifier_public_trans = mapclassify.NaturalBreaks(y=merged_tracts['Pct_PublicTrans'], k=5)\n",
    "classifier_rent_burden = mapclassify.NaturalBreaks(y=merged_tracts['Pct_RentBurden'], k=5)\n",
    "classifier_below_pov = mapclassify.NaturalBreaks(y=merged_tracts['Pct_BelowPov'], k=5)\n",
    "\n",
    "# Apply classifiers and create new columns\n",
    "merged_tracts['publicTrans_class'] = merged_tracts[['Pct_PublicTrans']].apply(classifier_public_trans)\n",
    "merged_tracts['rentBurden_class'] = merged_tracts[['Pct_RentBurden']].apply(classifier_rent_burden)\n",
    "merged_tracts['belowPov_class'] = merged_tracts[['Pct_BelowPov']].apply(classifier_below_pov)\n",
    "\n",
    "# Check the head of the dataframe to see the new columns\n",
    "print(merged_tracts[['publicTrans_class', 'rentBurden_class', 'belowPov_class']].head())"
   ]
  },
  {
   "cell_type": "code",
   "execution_count": null,
   "metadata": {
    "slideshow": {
     "slide_type": "slide"
    },
    "vscode": {
     "languageId": "ruby"
    }
   },
   "outputs": [],
   "source": [
    "# Create the 'housing_transit_index' column\n",
    "merged_tracts['housing_transit_index'] = (\n",
    "    merged_tracts['publicTrans_class'] + \n",
    "    merged_tracts['rentBurden_class'] + \n",
    "    merged_tracts['belowPov_class'] + \n",
    "    merged_tracts['nonWhite_class']\n",
    ")\n",
    "\n",
    "# Plot the 'housing_transit_index' using equal intervals\n",
    "fig, ax = plt.subplots(figsize=(10, 10))\n",
    "merged_tracts.plot(column=\"housing_transit_index\", scheme=\"Equal_Interval\", k=5, cmap=\"YlGn\", linewidth=0, legend=True, ax=ax)\n",
    "\n",
    "# Use tight layout\n",
    "plt.tight_layout()\n",
    "plt.title('Housing and Transit Vulnerability Index in LA County')\n",
    "ax.axis('off')\n",
    "\n",
    "# Place legend outside of plot\n",
    "ax.get_legend().set_bbox_to_anchor((1.5, 1))\n",
    "plt.show()\n",
    "# Save the plot to a PNG file\n",
    "plt.savefig('housing_transit_vulnerability_index.png')"
   ]
  },
  {
   "cell_type": "code",
   "execution_count": null,
   "metadata": {
    "slideshow": {
     "slide_type": "slide"
    }
   },
   "outputs": [],
   "source": [
    "import folium\n",
    "import contextily as ctx\n",
    "from folium.plugins import HeatMap\n",
    "\n",
    "# Create a folium map centered around LA County\n",
    "m = folium.Map(location=[34.0522, -118.2437], zoom_start=8, tiles='cartodbpositron')\n",
    "\n",
    "# Display the map\n",
    "folium.Choropleth(\n",
    "    geo_data=merged_tracts,\n",
    "    name='choropleth',\n",
    "    data=merged_tracts,\n",
    "    columns=['GEOID', 'housing_transit_index'],\n",
    "    key_on='feature.properties.GEOID',\n",
    "    fill_color='YlOrRd',\n",
    "    fill_opacity=0.7,\n",
    "    line_opacity=0.2,\n",
    "    legend_name='Housing and Transit Vulnerability Index',\n",
    "    bins=5,  # Set the number of bins for equal interval classification\n",
    "    reset=True\n",
    ").add_to(m)\n",
    "\n",
    "# Save the map as an HTML file\n",
    "m.save('housing_transit_vulnerability_index.html')\n",
    "\n",
    "m "
   ]
  },
  {
   "cell_type": "markdown",
   "metadata": {
    "slideshow": {
     "slide_type": "slide"
    }
   },
   "source": [
    "A-haa, okay so we can see where suitable places for us with our criteria seem to be located in the county. What policy recommendations could we make with this index?\n",
    "\n",
    "**Other examples and resources**\n",
    "\n",
    "- Notebook source from [AutoGIS](https://autogis-site.readthedocs.io/en/2019/notebooks/L4/reclassify.html)\n",
    "- CDC [Social Vulnerability Index](https://www.atsdr.cdc.gov/place-health/php/svi/svi-interactive-map.html)"
   ]
  }
 ],
 "metadata": {
  "kernelspec": {
   "display_name": "Python 3",
   "language": "python",
   "name": "python3"
  },
  "language_info": {
   "codemirror_mode": {
    "name": "ipython",
    "version": 3
   },
   "file_extension": ".py",
   "mimetype": "text/x-python",
   "name": "python",
   "nbconvert_exporter": "python",
   "pygments_lexer": "ipython3",
   "version": "3.7.4"
  }
 },
 "nbformat": 4,
 "nbformat_minor": 4
}
