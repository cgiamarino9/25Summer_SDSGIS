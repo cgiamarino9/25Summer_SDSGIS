{
 "cells": [
  {
   "cell_type": "markdown",
   "id": "6fe2d959-4b78-4334-a81e-d0f956226973",
   "metadata": {},
   "source": [
    "# Randomizer\n",
    "\n",
    "Who goes first? Let's roll the python dice..."
   ]
  },
  {
   "cell_type": "code",
   "execution_count": 9,
   "id": "74b15397-787f-4269-85c8-fa3f905233e4",
   "metadata": {
    "slideshow": {
     "slide_type": "slide"
    }
   },
   "outputs": [],
   "source": [
    "import pandas as pd\n",
    "pd.set_option('display.max_colwidth', None)"
   ]
  },
  {
   "cell_type": "code",
   "execution_count": 10,
   "id": "b7140473-71e2-4bc9-942d-f8c3d7b21fff",
   "metadata": {
    "slideshow": {
     "slide_type": "slide"
    }
   },
   "outputs": [],
   "source": [
    "# Create a data list of students and topics plus names\n",
    "students = [\n",
    "['LA County Oaks','Ethan, Caroline, Will'],\n",
    "['Mapping Extraction','Amil, Leila, Hollis'],\n",
    "['Cooling Resources','Cailyn, Mia, Sienna, Zixuan'],\n",
    "['SF Transportation','Abigail, Ronald, Caleb, Jasmine'],\n",
    "['Collisions in LA County','Emily, Gema, Veronica'],\n",
    "['Beyond Demolition','Judy'],\n",
    "['Wildfires and Rent','Elizabeth, Gina, Bryzen, Leo'],\n",
    "['Equity Bikeshares','Jia, Xingxiang, Yuxiang, Hao, Yanling']\n",
    "]"
   ]
  },
  {
   "cell_type": "code",
   "execution_count": null,
   "id": "b25c64e1-4aa9-483e-be04-0e5513ef29eb",
   "metadata": {
    "slideshow": {
     "slide_type": "slide"
    }
   },
   "outputs": [],
   "source": [
    "# add the students to a dataframe\n",
    "df = pd.DataFrame(students, columns=['Topic','Students'])\n",
    "  \n",
    "# print dataframe.\n",
    "df"
   ]
  },
  {
   "cell_type": "code",
   "execution_count": 12,
   "id": "dfc63d9c-d422-427b-a3f1-f4272718de45",
   "metadata": {
    "slideshow": {
     "slide_type": "slide"
    }
   },
   "outputs": [],
   "source": [
    "# this randomizes the data using .sample\n",
    "# frac stands for fraction of the data to return, \n",
    "# so frac=1 means to return every row\n",
    "df = df.sample(frac=1).reset_index(drop=True)"
   ]
  },
  {
   "attachments": {},
   "cell_type": "markdown",
   "id": "863fd6cc",
   "metadata": {},
   "source": [
    "![drum roll](drum.gif)"
   ]
  },
  {
   "cell_type": "code",
   "execution_count": null,
   "id": "d268e2db-5bef-46dc-aa66-672d336c9ff4",
   "metadata": {
    "slideshow": {
     "slide_type": "slide"
    }
   },
   "outputs": [],
   "source": [
    "df"
   ]
  },
  {
   "cell_type": "code",
   "execution_count": null,
   "id": "fc9f2fce-45fc-4fd9-888b-122c43b00c58",
   "metadata": {
    "slideshow": {
     "slide_type": "slide"
    }
   },
   "outputs": [],
   "source": [
    "# But wait, one group needs to go first, so let's add them to the top\n",
    "must_go_first = pd.DataFrame({\n",
    "    'Topic':'',\n",
    "    'Students':''\n",
    "},index=[0])\n",
    "\n",
    "df=pd.concat([must_go_first,df]).reset_index(drop=True)\n",
    "df\n"
   ]
  },
  {
   "cell_type": "code",
   "execution_count": null,
   "id": "cc81a91f",
   "metadata": {
    "slideshow": {
     "slide_type": "slide"
    }
   },
   "outputs": [],
   "source": [
    "# drop based on index position of duplicate group\n",
    "df = df.drop(7).reset_index(drop=True)\n",
    "df"
   ]
  }
 ],
 "metadata": {
  "kernelspec": {
   "display_name": "Python 3 (ipykernel)",
   "language": "python",
   "name": "python3"
  },
  "language_info": {
   "codemirror_mode": {
    "name": "ipython",
    "version": 3
   },
   "file_extension": ".py",
   "mimetype": "text/x-python",
   "name": "python",
   "nbconvert_exporter": "python",
   "pygments_lexer": "ipython3",
   "version": "3.11.7"
  },
  "vscode": {
   "interpreter": {
    "hash": "a6f97620323956135125d97ca3cfa81b2e752106e2996f191eab2ef4078f4063"
   }
  }
 },
 "nbformat": 4,
 "nbformat_minor": 5
}
